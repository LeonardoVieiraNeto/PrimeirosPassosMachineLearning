{
  "nbformat": 4,
  "nbformat_minor": 0,
  "metadata": {
    "colab": {
      "name": "BasicSampleOfMath.ipynb",
      "provenance": [],
      "collapsed_sections": [],
      "authorship_tag": "ABX9TyPpdqVlgKD1ePvsmT40Qneq",
      "include_colab_link": true
    },
    "kernelspec": {
      "name": "python3",
      "display_name": "Python 3"
    },
    "language_info": {
      "name": "python"
    }
  },
  "cells": [
    {
      "cell_type": "markdown",
      "metadata": {
        "id": "view-in-github",
        "colab_type": "text"
      },
      "source": [
        "<a href=\"https://colab.research.google.com/github/LeonardoVieiraNeto/PrimeirosPassosMachineLearning/blob/main/BasicSampleOfMath.ipynb\" target=\"_parent\"><img src=\"https://colab.research.google.com/assets/colab-badge.svg\" alt=\"Open In Colab\"/></a>"
      ]
    },
    {
      "cell_type": "code",
      "metadata": {
        "colab": {
          "base_uri": "https://localhost:8080/"
        },
        "id": "tbsX8HPmezc6",
        "outputId": "b004151c-379f-4dc9-b6dc-505724b7946c"
      },
      "source": [
        "# Lista de compras (17 items)\n",
        "Shopping_list = ['Pão', 'Queijo', 'Leite', 'Azeite', 'Bananas', 'Café',\n",
        "'Chocolate', 'Brocolis', 'Ovos', 'Cenoura', 'Tomates',\n",
        "'Arroz', 'Yakuti', 'Iogurte', 'Morango', 'cebola', 'Água com Gás']\n",
        "\n",
        "# Preços de BH\n",
        "BH_price = [6.49, 4.99, 4.39, 4.29, 11.99, 17.99,\n",
        "3.49, 3.99, 1.10, 1.99, 2.99, 4.68,\n",
        "1.59, 8.99, 3.49, 6.99, 2.99, 1.98, 14.99]\n",
        "\n",
        "# Preços em Abaeté\n",
        "abaete_price = [4.49, 4.12, 3.42, 6.99, 7.99, 14.99,\n",
        "2.99, 2.49, 0.99, 1.49, 2.49, 1.99,\n",
        "1.59, 6.99, 3.89, 4.99, 1.69]\n",
        "\n",
        "# Usamos o sum() para somar todos os preços em BH\n",
        "t_BH = sum(BH_price)\n",
        "t_BH\n",
        "print('Soma dos preços em BH: ', round(t_BH,2))\n",
        "\n",
        "# Usamos o sum() para somar todos os preços em Abaeté\n",
        "t_abaete = sum(abaete_price)\n",
        "t_abaete\n",
        "print('Soma dos preços em Abaeté: ', round(t_abaete,2))\n",
        "\n",
        "# variável para calcular a porcentagem dos preços de BH com relação aos preços em Abaeté\n",
        "diff = (t_BH - t_abaete)/ t_BH\n",
        "\n",
        "# Printamos o resultado arredondando os valores em 2 posições pós-virgula\n",
        "print('Percentual dos preços de BH e Abaeté é: ' , round(diff,2))"
      ],
      "execution_count": 20,
      "outputs": [
        {
          "output_type": "stream",
          "text": [
            "Soma dos preços em BH:  109.4\n",
            "Soma dos preços em Abaeté:  73.59\n",
            "Percentual dos preços de BH e Abaeté é:  0.33\n"
          ],
          "name": "stdout"
        }
      ]
    }
  ]
}